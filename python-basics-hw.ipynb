{
 "cells": [
  {
   "cell_type": "markdown",
   "metadata": {},
   "source": [
    "# Основы Python. Д/З"
   ]
  },
  {
   "cell_type": "markdown",
   "metadata": {},
   "source": [
    "**Задание 1**. Даны 2 строки: *long_phrase* и *short_phrase*. \n",
    "Напишите код, который проверяет действительно ли длинная фраза *long_phrase* длиннее короткой *short_phrase*. И выводит *True* или *False* в зависимости от результата сравнения."
   ]
  },
  {
   "cell_type": "code",
   "execution_count": 2,
   "metadata": {},
   "outputs": [
    {
     "data": {
      "text/plain": [
       "True"
      ]
     },
     "execution_count": 2,
     "metadata": {},
     "output_type": "execute_result"
    }
   ],
   "source": [
    "long_phrase = 'Насколько проще было бы писать программы, если бы не заказчики'\n",
    "short_phrase = '640Кб должно хватить для любых задач. Билл Гейтс (по легенде)'\n",
    "len(long_phrase) > len(short_phrase)"
   ]
  },
  {
   "cell_type": "markdown",
   "metadata": {},
   "source": [
    "**Задание 2**. Дано значение объема файла в байтах. Напишите перевод этого значения в мегабайты в формате: \"*Объем файла равен 213.68Mb*\""
   ]
  },
  {
   "cell_type": "code",
   "execution_count": 9,
   "metadata": {},
   "outputs": [
    {
     "name": "stdout",
     "output_type": "stream",
     "text": [
      "Объем файла равен 213.68Mb\n"
     ]
    }
   ],
   "source": [
    "size_file_b = 213680000\n",
    "str_mes = 'Объем файла равен %sMb'\n",
    "print(str_mes % str(int(size_file_b)/1000000))"
   ]
  },
  {
   "cell_type": "code",
   "execution_count": 2,
   "metadata": {},
   "outputs": [
    {
     "name": "stdout",
     "output_type": "stream",
     "text": [
      "Объем файла равен 213.68Mb\n"
     ]
    }
   ],
   "source": [
    "#f-строка с версии python 3.6\n",
    "size_file_b = 213680000\n",
    "print(f'Объем файла равен {str(int(size_file_b)/1000000)}Mb')"
   ]
  },
  {
   "cell_type": "markdown",
   "metadata": {},
   "source": [
    "**Задание 3**. Разработать приложение для определения знака зодиака по дате рождения. Пример:\n",
    "\n",
    "Введите месяц: март\n",
    "\n",
    "Введите число: 6\n",
    "\n",
    "Вывод:\n",
    "Рыбы"
   ]
  },
  {
   "cell_type": "code",
   "execution_count": 1,
   "metadata": {},
   "outputs": [
    {
     "name": "stdout",
     "output_type": "stream",
     "text": [
      "Введите месяц рождения март\n",
      "Введите число 6\n",
      "Рыбы\n"
     ]
    }
   ],
   "source": [
    "month_b = str(input('Введите месяц рождения '))\n",
    "month_b = month_b.lower()\n",
    "date_b = int(input('Введите число '))\n",
    "\n",
    "if month_b == 'январь':\n",
    "    if date_b <= 20:\n",
    "        print('Козерог')\n",
    "    else:\n",
    "        print('Водолей')\n",
    "elif month_b == 'февраль':\n",
    "    if date_b <= 20:\n",
    "        print('Водолей')\n",
    "    else:\n",
    "        print('Рыбы')\n",
    "elif month_b == 'март':\n",
    "    if date_b <= 20:\n",
    "        print('Рыбы')\n",
    "    else:\n",
    "        print('Овен')\n",
    "elif month_b == 'апрель':\n",
    "    if date_b <= 20:\n",
    "        print('Овен')\n",
    "    else:\n",
    "        print('Телец')     \n",
    "elif month_b == 'май':\n",
    "    if date_b <= 20:\n",
    "        print('Телец')\n",
    "    else:\n",
    "        print('Близнецы')  \n",
    "elif month_b == 'июнь':\n",
    "    if date_b <= 21:\n",
    "        print('Близнецы')\n",
    "    else:\n",
    "        print('Рак') \n",
    "elif month_b == 'июль':\n",
    "    if date_b <= 22:\n",
    "        print('Рак')\n",
    "    else:\n",
    "        print('Лев') \n",
    "elif month_b == 'август':\n",
    "    if date_b <= 23:\n",
    "        print('Лев')\n",
    "    else:\n",
    "        print('Дева') \n",
    "elif month_b == 'сентябрь':\n",
    "    if date_b <= 23:\n",
    "        print('Дева')\n",
    "    else:\n",
    "        print('Весы') \n",
    "elif month_b == 'октябрь':\n",
    "    if date_b <= 23:\n",
    "        print('Весы')\n",
    "    else:\n",
    "        print('Скорпион')  \n",
    "elif month_b == 'ноябрь':\n",
    "    if date_b <= 22:\n",
    "        print('Скорпион')\n",
    "    else:\n",
    "        print('Стрелец')     \n",
    "elif month_b == 'декабрь':\n",
    "    if date_b <= 21:\n",
    "        print('Стрелец')\n",
    "    else:\n",
    "        print('Козерог')   "
   ]
  },
  {
   "cell_type": "markdown",
   "metadata": {},
   "source": [
    "**Задание 4**. Нужно разработать приложение для финансового планирования.\n",
    "Приложение учитывает сколько уходит на ипотеку, \"на жизнь\" и сколько нужно отложить на пенсию.\n",
    "Пользователь вводит:\n",
    "- заработанную плату в месяц.\n",
    "- сколько процентов от ЗП уходит на ипотеку.\n",
    "- сколько процентов от ЗП уходит \"на жизнь\".\n",
    "- сколько раз приходит премия в год.\n",
    "\n",
    "Остальная часть заработанной платы откладывается на пенсию.\n",
    "\n",
    "Также пользователю приходит премия в размере зарплаты, от которой половина уходит на отпуск, а вторая половина откладывается.\n",
    "\n",
    "Программа должна учитывать сколько премий было в год.\n",
    "\n",
    "Нужно вывести сколько денег тратит пользователь на ипотеку и сколько он накопит за год.\n",
    "\n",
    "Пример:\n",
    "\n",
    "Введите заработанную плату в месяц: 100000\n",
    "\n",
    "Введите сколько процентов уходит на ипотеку: 30\n",
    "\n",
    "Введите сколько процентов уходит на жизнь: 50\n",
    "\n",
    "Введите количество премий за год: 2\n",
    "\n",
    "Вывод:\n",
    "На ипотеку было потрачено: 360000 рублей\n",
    "Было накоплено: 340000 рублей"
   ]
  },
  {
   "cell_type": "code",
   "execution_count": 6,
   "metadata": {},
   "outputs": [
    {
     "name": "stdout",
     "output_type": "stream",
     "text": [
      "Введите заработанную плату в месяц 100000\n",
      "Введите сколько процентов уходит на ипотеку 30\n",
      "Введите сколько процентов уходит на жизнь 50\n",
      "Введите количество премий за год 2\n",
      "На ипотеку было потрачено: 360000 рублей Было накоплено: 340000 рублей\n"
     ]
    }
   ],
   "source": [
    "salary = int(input('Введите заработанную плату в месяц '))\n",
    "pr_ipoteka = int(input('Введите сколько процентов уходит на ипотеку '))\n",
    "pr_payments = int(input('Введите сколько процентов уходит на жизнь '))\n",
    "kol_premium = int(input('Введите количество премий за год '))\n",
    "\n",
    "str_mes1 = 'На ипотеку было потрачено: %s рублей'\n",
    "str_mes2 = 'Было накоплено: %s рублей'\n",
    "\n",
    "#платеж за ипотеку в год\n",
    "ipoteka = (pr_ipoteka * salary)/100 * 12\n",
    "\n",
    "#премия в размере зарплаты, от которой половина откладывается\n",
    "bank = (salary * kol_premium) / 2\n",
    "\n",
    "#откладывается на пенсию  в год\n",
    "pensia = (((100 - (pr_ipoteka + pr_payments)) * salary)/100) * 12\n",
    "\n",
    "print(str_mes1 % round(ipoteka), str_mes2 % round(bank + pensia))"
   ]
  },
  {
   "cell_type": "code",
   "execution_count": 4,
   "metadata": {},
   "outputs": [
    {
     "name": "stdout",
     "output_type": "stream",
     "text": [
      "Введите заработанную плату в месяц 100000\n",
      "Введите сколько процентов уходит на ипотеку 30\n",
      "Введите сколько процентов уходит на жизнь 50\n",
      "Введите количество премий за год 2\n",
      "На ипотеку было потрачено: 360000 рублей Было накоплено: 340000 рублей\n"
     ]
    }
   ],
   "source": [
    "#f-строка с версии python 3.6\n",
    "\n",
    "salary = int(input('Введите заработанную плату в месяц '))\n",
    "pr_ipoteka = int(input('Введите сколько процентов уходит на ипотеку '))\n",
    "pr_payments = int(input('Введите сколько процентов уходит на жизнь '))\n",
    "kol_premium = int(input('Введите количество премий за год '))\n",
    "\n",
    "#платеж за ипотеку в год\n",
    "ipoteka = (pr_ipoteka * salary)/100 * 12\n",
    "\n",
    "#премия в размере зарплаты, от которой половина откладывается\n",
    "bank = (salary * kol_premium) / 2\n",
    "\n",
    "#откладывается на пенсию  в год\n",
    "pensia = (((100 - (pr_ipoteka + pr_payments)) * salary)/100) * 12\n",
    "\n",
    "print(f'На ипотеку было потрачено: {round(ipoteka)} рублей', f'Было накоплено: {round(bank + pensia)} рублей')"
   ]
  }
 ],
 "metadata": {
  "kernelspec": {
   "display_name": "Python 3",
   "language": "python",
   "name": "python3"
  },
  "language_info": {
   "codemirror_mode": {
    "name": "ipython",
    "version": 3
   },
   "file_extension": ".py",
   "mimetype": "text/x-python",
   "name": "python",
   "nbconvert_exporter": "python",
   "pygments_lexer": "ipython3",
   "version": "3.7.4"
  }
 },
 "nbformat": 4,
 "nbformat_minor": 2
}
